{
  "nbformat": 4,
  "nbformat_minor": 0,
  "metadata": {
    "colab": {
      "private_outputs": true,
      "provenance": [],
      "authorship_tag": "ABX9TyOQCwZPwQSMUHW1qmdBVKAS",
      "include_colab_link": true
    },
    "kernelspec": {
      "name": "python3",
      "display_name": "Python 3"
    },
    "language_info": {
      "name": "python"
    }
  },
  "cells": [
    {
      "cell_type": "markdown",
      "metadata": {
        "id": "view-in-github",
        "colab_type": "text"
      },
      "source": [
        "<a href=\"https://colab.research.google.com/github/Sai-Kumar159/TASK1.py/blob/main/UnSupervised_Learning_TrainingModel.ipynb\" target=\"_parent\"><img src=\"https://colab.research.google.com/assets/colab-badge.svg\" alt=\"Open In Colab\"/></a>"
      ]
    },
    {
      "cell_type": "markdown",
      "source": [
        "**PREDICTION USING UNSUPERVISED MECHINE LEARNING Optimal Number Of Clusters**\n",
        "\n",
        "SPARKS FOUNDATION INTERNSHIP\n",
        "\n",
        "TASK 2 : UNSUPERVISED ML\n",
        "\n",
        "Done By : Chaitanya Sai Kumar"
      ],
      "metadata": {
        "id": "jyLj3reK8_Q4"
      }
    },
    {
      "cell_type": "code",
      "execution_count": null,
      "metadata": {
        "id": "eB9usnCfrB3-"
      },
      "outputs": [],
      "source": [
        "!pip install pandas numpy seaborn matplotlib"
      ]
    },
    {
      "cell_type": "code",
      "source": [
        "import pandas as pd\n",
        "import numpy as np\n",
        "import seaborn as sns\n",
        "import matplotlib.pyplot as plt\n",
        "sns.set_style('darkgrid')\n",
        "%matplotlib inline"
      ],
      "metadata": {
        "id": "v6VAjvNnrlfR"
      },
      "execution_count": null,
      "outputs": []
    },
    {
      "cell_type": "code",
      "source": [
        "iris_df = pd.read_csv('/content/Iris.csv')\n",
        "iris_df"
      ],
      "metadata": {
        "id": "UDn66m5rr7er"
      },
      "execution_count": null,
      "outputs": []
    },
    {
      "cell_type": "code",
      "source": [
        "sns.scatterplot(data=iris_df, x = 'SepalLengthCm', y='PetalLengthCm', hue='Species');"
      ],
      "metadata": {
        "id": "F5UX0jeOsSck"
      },
      "execution_count": null,
      "outputs": []
    },
    {
      "cell_type": "code",
      "source": [
        "sns.scatterplot(data=iris_df, x = 'SepalWidthCm', y='PetalWidthCm', hue='Species');"
      ],
      "metadata": {
        "id": "sC0j4xhDu6SU"
      },
      "execution_count": null,
      "outputs": []
    },
    {
      "cell_type": "code",
      "source": [
        "numeric_cols = [\"SepalLengthCm\",\"SepalWidthCm\",\"PetalLengthCm\",\"PetalWidthCm\"]\n",
        "x = iris_df[numeric_cols]\n",
        "x"
      ],
      "metadata": {
        "id": "dTOKFOXFvoSf"
      },
      "execution_count": null,
      "outputs": []
    },
    {
      "cell_type": "markdown",
      "source": [
        "**we do k means Clusturing So we do that by training the model in sklearn k-means clusture we take the centeriod of each cluster varient and  then we check the varience if its is low then model is predicting good**\n"
      ],
      "metadata": {
        "id": "NM4s_V6AzAAS"
      }
    },
    {
      "cell_type": "code",
      "source": [
        "from sklearn.cluster import KMeans"
      ],
      "metadata": {
        "id": "qO7VtrJYzazy"
      },
      "execution_count": null,
      "outputs": []
    },
    {
      "cell_type": "code",
      "source": [
        "model = KMeans(n_clusters=3, random_state=42)"
      ],
      "metadata": {
        "id": "EziIUZpRzsit"
      },
      "execution_count": null,
      "outputs": []
    },
    {
      "cell_type": "code",
      "source": [
        "model.fit(x)"
      ],
      "metadata": {
        "id": "O0r7Zsgpz75Y"
      },
      "execution_count": null,
      "outputs": []
    },
    {
      "cell_type": "code",
      "source": [
        "model.cluster_centers_"
      ],
      "metadata": {
        "id": "0Fz5V_9jz_ZM"
      },
      "execution_count": null,
      "outputs": []
    },
    {
      "cell_type": "code",
      "source": [
        "x"
      ],
      "metadata": {
        "id": "H6k5pKzL0MSV"
      },
      "execution_count": null,
      "outputs": []
    },
    {
      "cell_type": "markdown",
      "source": [
        "**We are Classifying Each Flower into a Cluster**"
      ],
      "metadata": {
        "id": "jTpFOqeh1Xdw"
      }
    },
    {
      "cell_type": "code",
      "source": [
        "preds = model.predict(x)\n",
        "preds"
      ],
      "metadata": {
        "id": "qPyKX6I00TmY"
      },
      "execution_count": null,
      "outputs": []
    },
    {
      "cell_type": "code",
      "source": [
        "sns.scatterplot(data=x, x='SepalLengthCm', y = 'PetalLengthCm', hue=preds);\n",
        "\n",
        "centers_x,centers_y = model.cluster_centers_[:,0], model.cluster_centers_[:,2]\n",
        "plt.plot(centers_x, centers_y, 'xb')"
      ],
      "metadata": {
        "id": "-CQRiPe41Tyq"
      },
      "execution_count": null,
      "outputs": []
    },
    {
      "cell_type": "code",
      "source": [
        "model.inertia_"
      ],
      "metadata": {
        "id": "oYmkMxnl3dLn"
      },
      "execution_count": null,
      "outputs": []
    },
    {
      "cell_type": "code",
      "source": [
        "model = KMeans(n_clusters=6, random_state=42).fit(x)"
      ],
      "metadata": {
        "id": "pGHQBFyK3hsB"
      },
      "execution_count": null,
      "outputs": []
    },
    {
      "cell_type": "code",
      "source": [
        "preds = model.predict(x)\n",
        "preds"
      ],
      "metadata": {
        "id": "4WyPmJW64_y8"
      },
      "execution_count": null,
      "outputs": []
    },
    {
      "cell_type": "code",
      "source": [
        "sns.scatterplot(data=x,x=\"SepalLengthCm\",y=\"PetalLengthCm\", hue = preds)"
      ],
      "metadata": {
        "id": "qdVXsIa25HnY"
      },
      "execution_count": null,
      "outputs": []
    },
    {
      "cell_type": "code",
      "source": [
        "model.inertia_"
      ],
      "metadata": {
        "id": "sfYYLgGm5io3"
      },
      "execution_count": null,
      "outputs": []
    },
    {
      "cell_type": "code",
      "source": [
        "options = range(2, 11)\n",
        "inertias = []\n",
        "\n",
        "for n_clusters in options:\n",
        "  model = KMeans(n_clusters, random_state = 42).fit(x)\n",
        "  inertias.append(model.inertia_)\n",
        "\n",
        "plt.title(\"No. of cluster vs. Inertia\")\n",
        "plt.plot(options, inertias, '-o')\n",
        "plt.xlabel('No. of clusters (K)')\n",
        "plt.ylabel('Inertia');"
      ],
      "metadata": {
        "id": "9oUlZ1Fm5vgR"
      },
      "execution_count": null,
      "outputs": []
    }
  ]
}